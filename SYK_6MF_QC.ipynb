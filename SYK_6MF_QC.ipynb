{
 "cells": [
  {
   "attachments": {},
   "cell_type": "markdown",
   "id": "e2eb22b0-e831-4ded-a3c3-b7d4ef3401c6",
   "metadata": {
    "slideshow": {
     "slide_type": "-"
    },
    "tags": []
   },
   "source": [
    "# 'A model of Quantum Gravity on a Noisy Quantum Computer'\n",
    "\n",
    "# Authors: M. Asaduzzaman, R. G. Jha, B. Sambasivam\n",
    "\n",
    "## If you use any part of this notebook, we request that you please cite our paper.\n",
    "\n",
    "### This notebook accompanies the article arXiv: 2311.17991  and can be used to perform the time evolution of the SYK Hamiltonian for a single instance with N=6 Majorana fermions (three qubits) on a real quantum computer. \n",
    "\n",
    "### For questions and comments, please email us -- muhammad-asaduzzaman@uiowa.edu, raghav.govind.jha@gmail.com, bsambasi@syr.edu"
   ]
  },
  {
   "cell_type": "markdown",
   "id": "bd9b4ba8-d2c8-4cee-b616-c3ad0906eb38",
   "metadata": {
    "tags": []
   },
   "source": [
    "### Installing and importing packages"
   ]
  },
  {
   "cell_type": "code",
   "execution_count": 47,
   "id": "18d7ab0d-6267-49c2-90af-fffea5fb5cf9",
   "metadata": {
    "tags": []
   },
   "outputs": [],
   "source": [
    "!pip install qiskit-experiments"
   ]
  },
  {
   "cell_type": "code",
   "execution_count": 48,
   "id": "d119a8d7-08c4-43dc-bc95-b53411f9e0dd",
   "metadata": {
    "tags": []
   },
   "outputs": [
    {
     "name": "stderr",
     "output_type": "stream",
     "text": [
      "/opt/conda/lib/python3.10/site-packages/qiskit_ibm_provider/ibm_provider.py:297: UserWarning: Default hub/group/project ibm-q-bnl/bnl-non-c2qa-pro/exploring-fundam not found for the account and is ignored.\n",
      "  warnings.warn(\n"
     ]
    }
   ],
   "source": [
    "# Importing standard Qiskit libraries\n",
    "from qiskit import *\n",
    "from qiskit import QuantumCircuit, transpile\n",
    "from qiskit.tools.jupyter import *\n",
    "from qiskit.visualization import *\n",
    "from ibm_quantum_widgets import *\n",
    "from itertools import combinations\n",
    "from qiskit import Aer\n",
    "from qiskit_aer import AerSimulator\n",
    "from qiskit.compiler import transpile, assemble\n",
    "from qiskit import IBMQ\n",
    "from qiskit.providers.aer import QasmSimulator\n",
    "from qiskit import ClassicalRegister, QuantumCircuit, QuantumRegister\n",
    "from qiskit.tools.visualization import plot_histogram\n",
    "from qiskit.tools import job_monitor\n",
    "from qiskit_experiments.library import LocalReadoutError, CorrelatedReadoutError\n",
    "from qiskit.result.mitigation.utils import(\n",
    "    expval_with_stddev,\n",
    "    str2diag,\n",
    "    counts_probability_vector\n",
    ")\n",
    "from qiskit.providers.fake_provider import FakeHanoiV2\n",
    "from qiskit.providers.fake_provider import FakeKolkataV2\n",
    "from qiskit.providers.fake_provider import FakeMumbaiV2\n",
    "from qiskit.providers.fake_provider import FakeAuckland\n",
    "from qiskit.providers.fake_provider import FakeSherbrooke\n",
    "from qiskit.providers.fake_provider import ConfigurableFakeBackend\n",
    "from qiskit.providers.aer.noise import NoiseModel\n",
    "from qiskit.providers.aer.noise import ReadoutError\n",
    "\n",
    "# qiskit-ibmq-provider has been deprecated.\n",
    "# Please see the Migration Guides in https://ibm.biz/provider_migration_guide for more detail.\n",
    "from qiskit_ibm_runtime import QiskitRuntimeService, Sampler, Estimator, Session, Options\n",
    "\n",
    "from qiskit.circuit.library import (IGate, XGate, YGate, ZGate,\n",
    "                                    CXGate, CZGate, ECRGate, iSwapGate)\n",
    "from qiskit.quantum_info import Operator\n",
    "\n",
    "from qiskit.circuit import QuantumRegister\n",
    "from qiskit.dagcircuit import DAGCircuit\n",
    "from qiskit.transpiler import PassManager\n",
    "from qiskit.transpiler.basepasses import TransformationPass\n",
    "from qiskit.transpiler.passes import Optimize1qGatesDecomposition\n",
    "\n",
    "import numpy as np\n",
    "import mthree\n",
    "import datetime\n",
    "\n",
    "from qiskit_ibm_provider import IBMProvider\n",
    "\n",
    "# qiskit-ibmq-provider has been deprecated.\n",
    "# Please see the Migration Guides in https://ibm.biz/provider_migration_guide for more detail.\n",
    "from qiskit_ibm_runtime import QiskitRuntimeService, Sampler, Estimator, Session, Options\n",
    "\n",
    "# Loading your IBM Quantum account(s)\n",
    "service = QiskitRuntimeService(channel=\"ibm_quantum\")\n",
    "\n",
    "# Single qubit Pauli gates\n",
    "I = IGate()\n",
    "Z = ZGate()\n",
    "X = XGate()\n",
    "Y = YGate()\n",
    "\n",
    "# 2Q entangling gates\n",
    "CX = CXGate()\n",
    "CZ = CZGate()\n",
    "ECR = ECRGate()\n",
    "iSwap = iSwapGate()"
   ]
  },
  {
   "attachments": {},
   "cell_type": "markdown",
   "id": "92c59770-3c01-43fd-a2d9-bc6d30bf48d9",
   "metadata": {
    "slideshow": {
     "slide_type": "-"
    },
    "tags": []
   },
   "source": [
    "### Pauli Twirling/ Randomized Compiling\n",
    "#### Adapted from https://quantum-enablement.org/posts/2023/2023-02-02-pauli_twirling.html"
   ]
  },
  {
   "cell_type": "code",
   "execution_count": 49,
   "id": "cbf8af35-44f7-463b-94ad-3441273ceaa1",
   "metadata": {
    "tags": []
   },
   "outputs": [],
   "source": [
    "def generate_pauli_twirling_sets(two_qubit_gate):\n",
    "    \"\"\"Generate the Pauli twirling sets for a given 2Q gate\n",
    "    \n",
    "    Sets are ordered such that gate[0] and gate[1] are pre-roations\n",
    "    applied to control and target, respectively.  gate[2] and gate[3]\n",
    "    are post-rotations for control and target, respectively.\n",
    "    \n",
    "    Parameters:\n",
    "        two_qubit_gate (Gate): Input two-qubit gate\n",
    "        \n",
    "    Returns:\n",
    "        list: List of all twirling gate sets\n",
    "    \"\"\"\n",
    "    # Generate 16 element list of Pauli gates, each repeated 4 times\n",
    "    operator_list = [I, Z, X, Y]*4\n",
    "    # This is the target unitary to which our twirled circuit should match\n",
    "    target_unitary = Operator(two_qubit_gate.to_matrix())\n",
    "    twirling_sets = []\n",
    "    \n",
    "    # For every combination in 16 choose 4 make a circuit and look for equivilence\n",
    "    for gates in combinations(operator_list, 4):\n",
    "        # Build a circuit for our twirled 2Q gate\n",
    "        qc = QuantumCircuit(2)\n",
    "        qc.append(gates[0], [0])\n",
    "        qc.append(gates[1], [1])\n",
    "        qc.append(two_qubit_gate, [0, 1])\n",
    "        qc.append(gates[2], [0])\n",
    "        qc.append(gates[3], [1])\n",
    "        \n",
    "        norm = np.linalg.norm(Operator.from_circuit(qc)-target_unitary)\n",
    "        \n",
    "        phase = None\n",
    "        # If unitaries match we have a phase of zero\n",
    "        if abs(norm) < 1e-15:\n",
    "            phase = 0\n",
    "        # If unitaries differ by a phase of pi, shift by pi\n",
    "        elif abs(norm-4) < 1e-15:\n",
    "            phase = np.pi\n",
    "\n",
    "        if phase is not None:\n",
    "            qc.global_phase += phase\n",
    "            # Verify that our twirled circuit is a valid replacement\n",
    "            assert Operator.from_circuit(qc) == target_unitary\n",
    "            twirl_set = (gates, phase)\n",
    "            # Check that set does not already exist\n",
    "            if twirl_set not in twirling_sets:\n",
    "                twirling_sets.append(twirl_set)\n",
    "            \n",
    "    return twirling_sets"
   ]
  },
  {
   "cell_type": "code",
   "execution_count": 50,
   "id": "f1323bb9-7fdb-4f69-ba15-4ec28258941a",
   "metadata": {
    "tags": []
   },
   "outputs": [],
   "source": [
    "twirling_groups = {} \n",
    "\n",
    "for gate in [CX, CZ, ECR, iSwap]:\n",
    "    twirl_set = generate_pauli_twirling_sets(gate)\n",
    "    twirling_groups[gate.name] = twirl_set"
   ]
  },
  {
   "cell_type": "code",
   "execution_count": 51,
   "id": "4def2caa-47d7-42b5-baab-44dbcb1a2fdc",
   "metadata": {
    "tags": []
   },
   "outputs": [],
   "source": [
    "class PauliTwirling(TransformationPass):\n",
    "    \"\"\"Pauli twirl an input circuit.\n",
    "    \"\"\"\n",
    "    def __init__(self, twirling_gate, seed=None):\n",
    "        \"\"\"\n",
    "        Parameters:\n",
    "            twirling_gate (str): Which gate to twirl\n",
    "            seed (int): Seed for RNG, should be < 2e32\n",
    "        \"\"\"\n",
    "        super().__init__()\n",
    "        # This is the target gate to twirl\n",
    "        self.twirling_gate = twirling_gate\n",
    "        # Get the twirling set from the dict we generated above\n",
    "        # This should be repalced by a cached version in practice\n",
    "        self.twirling_set = twirling_groups[twirling_gate]\n",
    "        # Length of the twirling set to bound RNG generation\n",
    "        self.twirling_len = len(self.twirling_set)\n",
    "        # Seed the NumPy RNG\n",
    "        self.rng = np.random.default_rng(seed)\n",
    "\n",
    "    def run(self, dag):\n",
    "        \"\"\"Insert Pauli twirls into input DAG\n",
    "        \n",
    "        Parameters:\n",
    "            dag (DAGCircuit): Input DAG\n",
    "        \n",
    "        Returns:\n",
    "            dag: DAG with twirls added in-place\n",
    "        \"\"\"\n",
    "        for run in dag.collect_runs([self.twirling_gate]):\n",
    "            for node in run:\n",
    "                # Generate a random int to specify the twirling gates\n",
    "                twirl_idx = self.rng.integers(0, self.twirling_len)\n",
    "                # Get the randomly selected twirling set\n",
    "                twirl_gates = self.twirling_set[twirl_idx][0]\n",
    "                twirl_phase = self.twirling_set[twirl_idx][1]\n",
    "                # Make a small DAG for the twirled circuit we are going to insert\n",
    "                twirl_dag = DAGCircuit()\n",
    "                # Add a register of qubits (here always 2Q)\n",
    "                qreg = QuantumRegister(2)\n",
    "                twirl_dag.add_qreg(qreg)\n",
    "                # gate[0] pre-applied to control\n",
    "                twirl_dag.apply_operation_back(twirl_gates[0], [qreg[0]])\n",
    "                # gate[1] pre-applied to target\n",
    "                twirl_dag.apply_operation_back(twirl_gates[1], [qreg[1]])\n",
    "                # Insert original gate\n",
    "                twirl_dag.apply_operation_back(node.op, [qreg[0], qreg[1]])\n",
    "                # gate[2] pre-applied to control\n",
    "                twirl_dag.apply_operation_back(twirl_gates[2], [qreg[0]])\n",
    "                # gate[3] pre-applied to target\n",
    "                twirl_dag.apply_operation_back(twirl_gates[3], [qreg[1]])\n",
    "                # Add a global phase gate to account for possible phase difference\n",
    "                twirl_dag.global_phase += twirl_phase\n",
    "                # Replace the target gate with the twirled version\n",
    "                dag.substitute_node_with_dag(node, twirl_dag)\n",
    "        return dag"
   ]
  },
  {
   "attachments": {},
   "cell_type": "markdown",
   "id": "d12e9291-5b71-47c8-9642-c5fc9ab4e236",
   "metadata": {
    "slideshow": {
     "slide_type": "-"
    },
    "tags": []
   },
   "source": [
    "### Specify circuit parameters, choose backend and qubits to be used"
   ]
  },
  {
   "cell_type": "code",
   "execution_count": 52,
   "id": "3fc9a3ac-35fd-4ddb-81e5-41cdf7e41652",
   "metadata": {
    "tags": []
   },
   "outputs": [],
   "source": [
    "#Number of trotter steps\n",
    "nt = 8\n",
    "#Trotter step size. This is just a formality here. Make sure you import the correct file\n",
    "dt = 1.5\n",
    "\n",
    "#Choose Backend\n",
    "#Backend = service.get_backend('ibm_cusco')\n",
    "#Backend = service.get_backend('ibm_nazca')\n",
    "Backend = service.get_backend('ibm_kyoto')\n",
    "\n",
    "#Fake backed=nd\n",
    "f_Backend = FakeSherbrooke()\n",
    "#backend=AerSimulator()\n",
    "\n",
    "#Simulator\n",
    "t_backend = service.get_backend(\"ibmq_qasm_simulator\")\n",
    "\n",
    "\n",
    "#Choose nice qubits such that they have high T1, T2 and low readout error. Preferably also low CX/ECR gate time between qubits\n",
    "q_layout = [4,5,6]\n",
    "\n",
    "#Specify nunmber of Pauli Twirled circuits for physics and self-mitigation runs\n",
    "num_phys = 75\n",
    "num_mit = 75\n",
    "\n",
    "#Specify the options for the Sampler primitive\n",
    "options = Options()\n",
    "options.execution.shots = 2048 # This is the number of shots per circuit\n",
    "options.resilience_level = 1 # This enables M3 mitigation and DD (dynamical decoupling) error mitigation\n",
    "options.optimization_level = 1 # This makes sure the circuit remains untouched. In this work, we do all the transpilation before passing it to hardware. This is important for self-mitigation\n",
    "options.initial_layout = q_layout # Picks the layout of qubits to run the circuit on. While using simulator, make sure the layout of qubits doesn't exceed the number 32"
   ]
  },
  {
   "cell_type": "code",
   "execution_count": 53,
   "id": "3204af74-6830-49af-aba3-c3e34d78f176",
   "metadata": {
    "tags": []
   },
   "outputs": [],
   "source": [
    "# Generates Pauli-twirled circuits\n",
    "post_pm = PassManager([PauliTwirling('ecr', seed=54321), Optimize1qGatesDecomposition(Backend.target.operation_names)])\n",
    "def pt_full_circ(qctrans):\n",
    "    return(post_pm.run(qctrans))"
   ]
  },
  {
   "cell_type": "code",
   "execution_count": 54,
   "id": "e7ffdc65-bb22-40dc-a66d-5e9ac8ef3c82",
   "metadata": {
    "tags": []
   },
   "outputs": [],
   "source": [
    "# Imports trotter circuits for forward and backward time evolution in terms of CX gates + single qubit gates\n",
    "trot_circ_fwd_cx = QuantumCircuit.from_qasm_file('QC_N6_2H.qasm')\n",
    "trot_circ_bck_cx = QuantumCircuit.from_qasm_file('QC_N6_2HR.qasm')"
   ]
  },
  {
   "cell_type": "code",
   "execution_count": 55,
   "id": "1e02300e-f656-4309-9b6c-3f84db1c68b7",
   "metadata": {
    "tags": []
   },
   "outputs": [],
   "source": [
    "# Converts trotter circuits for forward and backward time evolution in terms of ECR gates + single qubit gates\n",
    "trot_circ_fwd = transpile(trot_circ_fwd_cx, basis_gates = Backend.configuration().basis_gates)\n",
    "trot_circ_bck = transpile(trot_circ_bck_cx, basis_gates = Backend.configuration().basis_gates)"
   ]
  },
  {
   "cell_type": "code",
   "execution_count": 56,
   "id": "605120f2-fa0c-45c0-9804-65a2016f17d7",
   "metadata": {
    "tags": []
   },
   "outputs": [
    {
     "data": {
      "text/plain": [
       "[OrderedDict([('rz', 53), ('cx', 30), ('sx', 22), ('barrier', 5)]),\n",
       " OrderedDict([('rz', 53), ('cx', 30), ('sx', 22), ('barrier', 5)])]"
      ]
     },
     "execution_count": 56,
     "metadata": {},
     "output_type": "execute_result"
    }
   ],
   "source": [
    "# Gate counts for forward and backward time evolution to make sure they are the same\n",
    "[trot_circ_bck.count_ops(), trot_circ_bck.count_ops()]"
   ]
  },
  {
   "attachments": {},
   "cell_type": "markdown",
   "id": "cdc3b26c-1ff7-4d40-95d3-c367153590ef",
   "metadata": {
    "slideshow": {
     "slide_type": "-"
    },
    "tags": []
   },
   "source": [
    "### Building the circuits"
   ]
  },
  {
   "cell_type": "code",
   "execution_count": 57,
   "id": "130b8917-1641-4522-9777-4dce455f8f1c",
   "metadata": {
    "tags": []
   },
   "outputs": [],
   "source": [
    "# Physics run circuits\n",
    "\n",
    "full_circ = QuantumCircuit(3)\n",
    "for i in range(nt):\n",
    "    full_circ.barrier()\n",
    "    full_circ = full_circ.compose(trot_circ_fwd)\n",
    "full_circ.measure_all()\n",
    "full_circ_trans2 = transpile(full_circ, basis_gates = Backend.configuration().basis_gates, initial_layout = [0,1,2], coupling_map = [[0,1],[1,0],[1,2],[2,1]], optimization_level=2)\n",
    "full_circ_trans = transpile(full_circ_trans2, basis_gates = Backend.configuration().basis_gates, initial_layout = [0,1,2], coupling_map = [[0,1],[1,0],[1,2],[2,1]], optimization_level=3)"
   ]
  },
  {
   "cell_type": "code",
   "execution_count": 58,
   "id": "a89599e8-727e-456e-8012-f2bd45b5bee1",
   "metadata": {
    "tags": []
   },
   "outputs": [],
   "source": [
    "# Self-mitigation run circuits\n",
    "\n",
    "sm_full_circ = QuantumCircuit(3)\n",
    "for i in range(int(nt/2)):\n",
    "    sm_full_circ.barrier()\n",
    "    sm_full_circ = sm_full_circ.compose(trot_circ_fwd)\n",
    "for i in range(int(nt/2)):\n",
    "    sm_full_circ.barrier()\n",
    "    sm_full_circ = sm_full_circ.compose(trot_circ_bck)\n",
    "sm_full_circ.measure_all()\n",
    "sm_full_circ_trans2 = transpile(sm_full_circ, basis_gates = Backend.configuration().basis_gates, initial_layout = [0,1,2], coupling_map = [[0,1],[1,0],[1,2],[2,1]], optimization_level = 2)\n",
    "sm_full_circ_trans = transpile(sm_full_circ_trans2, basis_gates = Backend.configuration().basis_gates, initial_layout = [0,1,2], coupling_map = [[0,1],[1,0],[1,2],[2,1]], optimization_level = 3)"
   ]
  },
  {
   "cell_type": "code",
   "execution_count": 59,
   "id": "806f7f8b-70cf-4038-954a-b2ad23c786b6",
   "metadata": {
    "tags": []
   },
   "outputs": [
    {
     "data": {
      "text/plain": [
       "[OrderedDict([('rz', 538),\n",
       "              ('sx', 330),\n",
       "              ('cx', 313),\n",
       "              ('barrier', 41),\n",
       "              ('x', 24),\n",
       "              ('measure', 3)]),\n",
       " OrderedDict([('rz', 536),\n",
       "              ('sx', 326),\n",
       "              ('cx', 313),\n",
       "              ('barrier', 41),\n",
       "              ('x', 28),\n",
       "              ('measure', 3)])]"
      ]
     },
     "execution_count": 59,
     "metadata": {},
     "output_type": "execute_result"
    }
   ],
   "source": [
    "# Gate counts for full physics and self-mitigation circuits. Important to have same number of two-qubit \n",
    "# gates so the mitigation circuits characterize the noise in the physics circuits well\n",
    "[full_circ_trans.count_ops(),sm_full_circ_trans.count_ops()]"
   ]
  },
  {
   "attachments": {},
   "cell_type": "markdown",
   "id": "5b04028d-bdd8-425f-8163-f866a148e5d1",
   "metadata": {
    "slideshow": {
     "slide_type": "-"
    },
    "tags": []
   },
   "source": [
    "### Twirl circuits and make run list"
   ]
  },
  {
   "cell_type": "code",
   "execution_count": 60,
   "id": "e86f63de-fc3f-48e0-9417-21c872918469",
   "metadata": {
    "tags": []
   },
   "outputs": [],
   "source": [
    "# Add twirled circuits to a 2 lists- one for physics and one for self-mitigation\n",
    "full_circ_list = [pt_full_circ(full_circ_trans) for i in range(num_phys)]\n",
    "sm_full_circ_list = [pt_full_circ(sm_full_circ_trans) for i in range (num_mit)]"
   ]
  },
  {
   "cell_type": "code",
   "execution_count": 61,
   "id": "ba84abfe-29a2-44dc-9fcf-d82d7c8a1df5",
   "metadata": {
    "tags": []
   },
   "outputs": [
    {
     "data": {
      "text/plain": [
       "[OrderedDict([('rz', 538),\n",
       "              ('sx', 330),\n",
       "              ('cx', 313),\n",
       "              ('barrier', 41),\n",
       "              ('x', 24),\n",
       "              ('measure', 3)]),\n",
       " OrderedDict([('rz', 536),\n",
       "              ('sx', 326),\n",
       "              ('cx', 313),\n",
       "              ('barrier', 41),\n",
       "              ('x', 28),\n",
       "              ('measure', 3)])]"
      ]
     },
     "execution_count": 61,
     "metadata": {},
     "output_type": "execute_result"
    }
   ],
   "source": [
    "# Another gate count sanity check to make sure #ECR or #CX gates are same\n",
    "[full_circ_list[0].count_ops(),sm_full_circ_list[69].count_ops()]"
   ]
  },
  {
   "cell_type": "code",
   "execution_count": 62,
   "id": "be67b8a2-ef0a-4ac5-972d-838e5161e971",
   "metadata": {
    "tags": []
   },
   "outputs": [
    {
     "data": {
      "text/plain": [
       "75"
      ]
     },
     "execution_count": 62,
     "metadata": {},
     "output_type": "execute_result"
    }
   ],
   "source": [
    "len(sm_full_circ_list)"
   ]
  },
  {
   "cell_type": "code",
   "execution_count": 63,
   "id": "cd991832-ebe3-4c57-a201-00d6b3505648",
   "metadata": {
    "tags": []
   },
   "outputs": [],
   "source": [
    "# Circuit list for hardware runs. Concatenated list of physics and mitigation circuits\n",
    "har_circ_list = []\n",
    "har_circ_list.extend(full_circ_list)\n",
    "har_circ_list.extend(sm_full_circ_list)"
   ]
  },
  {
   "cell_type": "code",
   "execution_count": 64,
   "id": "8b34896e-77d7-45f2-ac5b-833514713921",
   "metadata": {
    "tags": []
   },
   "outputs": [
    {
     "data": {
      "text/plain": [
       "150"
      ]
     },
     "execution_count": 64,
     "metadata": {},
     "output_type": "execute_result"
    }
   ],
   "source": [
    "# Total number of hardware circuits\n",
    "len(har_circ_list)"
   ]
  },
  {
   "attachments": {},
   "cell_type": "markdown",
   "id": "14f9ffb1-657d-41bd-ab39-f124639af95e",
   "metadata": {
    "slideshow": {
     "slide_type": "-"
    },
    "tags": []
   },
   "source": [
    "### Running everything on Fake Backend with results"
   ]
  },
  {
   "cell_type": "code",
   "execution_count": 65,
   "id": "6e81143e-ba8a-4448-b7f8-8459a87ed0b9",
   "metadata": {
    "tags": []
   },
   "outputs": [
    {
     "name": "stderr",
     "output_type": "stream",
     "text": [
      "Adding a job from a backend (aer_simulator) that is different than the current backend (<qiskit.providers.fake_provider.backends.sherbrooke.fake_sherbrooke.FakeSherbrooke object at 0x7fa47a8c3a30>). The new backend will be used, but service is not changed if one already exists.\n"
     ]
    }
   ],
   "source": [
    "#Readout-error mitigation runs\n",
    "num_shots=2048\n",
    "ro_exp = LocalReadoutError(q_layout)\n",
    "ro_job = ro_exp.run(f_Backend, shots = num_shots)\n",
    "mitigator = ro_job.analysis_results(0).value\n",
    "def Mitigated_Counts(counts):\n",
    "    mitigated_quasi_probs = mitigator.quasi_probabilities(counts)\n",
    "    mitigated_stddev = mitigated_quasi_probs._stddev_upper_bound\n",
    "    mitigated_probs = (mitigated_quasi_probs.nearest_probability_distribution().binary_probabilities())\n",
    "    mitigated_counts = {label: round(probs*sum(counts.values())) for label, probs in mitigated_probs.items()}\n",
    "    return(mitigated_counts)"
   ]
  },
  {
   "cell_type": "code",
   "execution_count": 66,
   "id": "8626c5f6-8dd1-4a88-a3d3-01958584b590",
   "metadata": {
    "tags": []
   },
   "outputs": [],
   "source": [
    "Fback_job_list = execute(har_circ_list, backend = f_Backend, shots = num_shots)"
   ]
  },
  {
   "cell_type": "code",
   "execution_count": 67,
   "id": "67426578-9110-4534-977c-f84aa761f17a",
   "metadata": {
    "tags": []
   },
   "outputs": [
    {
     "name": "stdout",
     "output_type": "stream",
     "text": [
      "{'110': 17001, '111': 15713, '001': 19970, '100': 18430, '010': 16717, '101': 20494, '000': 20874, '011': 24406}\n",
      "{'110': 15603, '111': 15050, '101': 17706, '010': 16146, '100': 17030, '011': 17472, '001': 22724, '000': 31856}\n"
     ]
    }
   ],
   "source": [
    "#Compile the counts\n",
    "Fback_phys_counts_list = [Mitigated_Counts(Fback_job_list.result().get_counts()[i]) for i in range(num_phys)]\n",
    "Fback_mit_counts_list = [Mitigated_Counts(Fback_job_list.result().get_counts()[i+num_phys]) for i in range(num_mit)]\n",
    "\n",
    "# Initialize an empty dictionary for the result\n",
    "Fback_phys_counts_tot = {}\n",
    "Fback_mit_counts_tot = {}\n",
    "\n",
    "# Merge dictionaries and calculate the sum of values for common keys\n",
    "for d in Fback_phys_counts_list:\n",
    "    for key, value in d.items():\n",
    "        Fback_phys_counts_tot[key] = Fback_phys_counts_tot.get(key, 0) + value\n",
    "        \n",
    "# Merge dictionaries and calculate the sum of values for common keys\n",
    "for d in Fback_mit_counts_list:\n",
    "    for key, value in d.items():\n",
    "        Fback_mit_counts_tot[key] = Fback_mit_counts_tot.get(key, 0) + value\n",
    "\n",
    "# Output the merged dictionary\n",
    "print(Fback_phys_counts_tot)\n",
    "print(Fback_mit_counts_tot)"
   ]
  },
  {
   "cell_type": "code",
   "execution_count": 68,
   "id": "bae04ac5-f2c0-40c9-afc4-01241adc85c4",
   "metadata": {
    "tags": []
   },
   "outputs": [
    {
     "name": "stdout",
     "output_type": "stream",
     "text": [
      "========================================================================\n",
      "Results from <qiskit.providers.fake_provider.backends.sherbrooke.fake_sherbrooke.FakeSherbrooke object at 0x7fa47a8c3a30>\n",
      "========================================================================\n",
      "Probability of error from ECR-only mitigation circuits:  0.7925866121481636\n",
      "Un-mitigated return probability: 0.1358940138667361\n",
      "Mitigated return probability: 0.1775231952458061\n"
     ]
    }
   ],
   "source": [
    "Fback_prob_unmit = ((Fback_phys_counts_tot['000'])/sum(list(Fback_phys_counts_tot.values())))\n",
    "Fback_ecro_err_p = 1-(Fback_mit_counts_tot['000']/sum(list(Fback_mit_counts_tot.values())))\n",
    "Fback_prob_mit = (((Fback_phys_counts_tot['000'])/sum(list(Fback_phys_counts_tot.values())))-(1/8)*Fback_ecro_err_p)/(1-Fback_ecro_err_p)\n",
    "\n",
    "print(\"========================================================================\")\n",
    "print(\"Results from\", f_Backend)\n",
    "print(\"========================================================================\")\n",
    "print(\"Probability of error from ECR-only mitigation circuits: \", Fback_ecro_err_p)\n",
    "print(\"Un-mitigated return probability:\", Fback_prob_unmit)\n",
    "print(\"Mitigated return probability:\", Fback_prob_mit)"
   ]
  },
  {
   "cell_type": "markdown",
   "id": "9c7bd9c0-8719-413a-8bd8-77317a72ac25",
   "metadata": {
    "slideshow": {
     "slide_type": "-"
    },
    "tags": []
   },
   "source": [
    "# Running everything"
   ]
  },
  {
   "cell_type": "code",
   "execution_count": 69,
   "id": "24f2b416-eb6b-420c-b49f-6aa4a8a7035e",
   "metadata": {
    "tags": []
   },
   "outputs": [
    {
     "name": "stderr",
     "output_type": "stream",
     "text": [
      "base_primitive._run_primitive:INFO:2023-11-22 01:35:49,761: Submitting job using options {'optimization_level': 1, 'resilience_level': 1, 'max_execution_time': None, 'transpilation': {'skip_transpilation': False, 'initial_layout': [4, 5, 6], 'layout_method': None, 'routing_method': None, 'approximation_degree': None, 'optimization_settings': {'level': 1}, 'coupling_map': None, 'basis_gates': None}, 'resilience': {'noise_amplifier': 'TwoQubitAmplifier', 'noise_factors': (1, 3, 5), 'extrapolator': 'LinearExtrapolator', 'level': 1}, 'execution': {'shots': 2048, 'init_qubits': True, 'noise_model': None, 'seed_simulator': None}, 'environment': {'log_level': 'WARNING', 'callback': None, 'job_tags': []}, 'simulator': {'noise_model': None, 'seed_simulator': None, 'coupling_map': None, 'basis_gates': None}}\n"
     ]
    },
    {
     "name": "stdout",
     "output_type": "stream",
     "text": [
      "cnennyfjpbeg008cvc7g\n"
     ]
    }
   ],
   "source": [
    "#Check the Backend argument under Circuit Parameters before running this\n",
    "with Session(service = service, backend = Backend) as session:\n",
    "    sampler = Sampler(session = session, options = options)\n",
    "    job = sampler.run(har_circ_list, initial_layout=q_layout)\n",
    "    print(job.job_id())"
   ]
  },
  {
   "cell_type": "markdown",
   "id": "c306a8e4-1250-4e9a-beca-d45047658dc3",
   "metadata": {
    "slideshow": {
     "slide_type": "-"
    },
    "tags": []
   },
   "source": [
    "# Results"
   ]
  },
  {
   "cell_type": "code",
   "execution_count": 72,
   "id": "db31afc7-9aa4-4113-99a6-c75063eb71ff",
   "metadata": {
    "tags": []
   },
   "outputs": [
    {
     "name": "stdout",
     "output_type": "stream",
     "text": [
      "-----------------------------------------------------------------------------------------\n",
      "The unmitigated return-probability is  0.11633539766678068\n",
      "-----------------------------------------------------------------------------------------\n",
      "The probability of depolarizing error is  0.884053882184524\n",
      "-----------------------------------------------------------------------------------------\n",
      "The self-mitigated return probability is  0.050270440300478926\n",
      "-----------------------------------------------------------------------------------------\n",
      "Nested list of numbers has been saved to 6MF_8-1.5.txt\n"
     ]
    }
   ],
   "source": [
    "#Retrieve job using job_id\n",
    "job_id = \"cnennyfjpbeg008cvc7g\" # Insert Job tag here from the cell above. \n",
    "job_list = service.job(job_id)\n",
    "\n",
    "#Print out unmitigatd and self-mitigated results\n",
    "prob_unmit = (1/num_phys)*sum([(job_list.result().quasi_dists[i].nearest_probability_distribution())[0] for i in range(num_phys)])\n",
    "sm_err_p = 1-(1/num_mit)*sum([(job_list.result().quasi_dists[i+num_phys].nearest_probability_distribution())[0] for i in range(num_mit)])\n",
    "prob_mit = (prob_unmit - (1/8)*sm_err_p)/(1-sm_err_p)\n",
    "print(\"-----------------------------------------------------------------------------------------\")\n",
    "print(\"The unmitigated return-probability is \", prob_unmit)\n",
    "print(\"-----------------------------------------------------------------------------------------\")\n",
    "print(\"The probability of depolarizing error is \", sm_err_p)\n",
    "print(\"-----------------------------------------------------------------------------------------\")\n",
    "print(\"The self-mitigated return probability is \", prob_mit)\n",
    "print(\"-----------------------------------------------------------------------------------------\")\n",
    "\n",
    "#Make list of results from each circuit\n",
    "ret_prob_list = [(job_list.result().quasi_dists[i].nearest_probability_distribution())[0] for i in range(num_phys)]\n",
    "sm_err_prob_list = [1-(job_list.result().quasi_dists[i+num_phys].nearest_probability_distribution())[0] for i in range(num_mit)]\n",
    "full_list = []\n",
    "full_list.extend([[1.5, 2, 0.00000]])\n",
    "full_list.extend([ret_prob_list])\n",
    "full_list.extend([sm_err_prob_list])\n",
    "\n",
    "#Export the list of results to a file for data analysis and making plots\n",
    "\n",
    "# Specify the file path where you want to save the nested list\n",
    "file_path = \"6MF_8-1.5.txt\"\n",
    "\n",
    "# Open the file in write mode\n",
    "with open(file_path, \"w\") as file:\n",
    "    # Iterate through the outer list\n",
    "    for inner_list in full_list:\n",
    "        # Iterate through the inner list and write each number to the file\n",
    "        for number in inner_list:\n",
    "            file.write(str(number) + \" \")\n",
    "        file.write(\"\\n\")\n",
    "\n",
    "# Close the file\n",
    "file.close()\n",
    "\n",
    "print(f\"Nested list of numbers has been saved to {file_path}\")"
   ]
  },
  {
   "cell_type": "code",
   "execution_count": null,
   "id": "f4425f34-3a46-48b1-8d83-e71795a7ff62",
   "metadata": {},
   "outputs": [],
   "source": []
  }
 ],
 "metadata": {
  "kernelspec": {
   "display_name": "Python 3 (ipykernel)",
   "language": "python",
   "name": "python3"
  },
  "language_info": {
   "codemirror_mode": {
    "name": "ipython",
    "version": 3
   },
   "file_extension": ".py",
   "mimetype": "text/x-python",
   "name": "python",
   "nbconvert_exporter": "python",
   "pygments_lexer": "ipython3",
   "version": "3.10.8"
  },
  "widgets": {
   "application/vnd.jupyter.widget-state+json": {
    "state": {},
    "version_major": 2,
    "version_minor": 0
   }
  }
 },
 "nbformat": 4,
 "nbformat_minor": 5
}
